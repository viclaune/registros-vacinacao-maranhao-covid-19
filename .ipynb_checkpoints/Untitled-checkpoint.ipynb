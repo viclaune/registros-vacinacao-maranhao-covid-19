{
 "cells": [
  {
   "cell_type": "code",
   "execution_count": 2,
   "id": "b67ebcf1",
   "metadata": {},
   "outputs": [
    {
     "name": "stdout",
     "output_type": "stream",
     "text": [
      "22/06/30 14:38:23 WARN Utils: Your hostname, victorlaune resolves to a loopback address: 127.0.1.1; using 192.168.100.94 instead (on interface wlp0s20f3)\n",
      "22/06/30 14:38:23 WARN Utils: Set SPARK_LOCAL_IP if you need to bind to another address\n"
     ]
    },
    {
     "name": "stderr",
     "output_type": "stream",
     "text": [
      "Setting default log level to \"WARN\".\n",
      "To adjust logging level use sc.setLogLevel(newLevel). For SparkR, use setLogLevel(newLevel).\n"
     ]
    },
    {
     "name": "stdout",
     "output_type": "stream",
     "text": [
      "22/06/30 14:38:24 WARN NativeCodeLoader: Unable to load native-hadoop library for your platform... using builtin-java classes where applicable\n",
      "22/06/30 14:38:25 WARN Utils: Service 'SparkUI' could not bind on port 4040. Attempting port 4041.\n",
      "22/06/30 14:38:25 WARN Utils: Service 'SparkUI' could not bind on port 4041. Attempting port 4042.\n"
     ]
    }
   ],
   "source": [
    "# Dados vacinacao Covid 19 - Maranhao\n",
    "import pyspark\n",
    "from pyspark.sql import SparkSession\n",
    "\n",
    "spark = SparkSession.builder.appName('job-1')\\\n",
    "    .config('spark.master', 'local')\\\n",
    "    .config('spark.sql.parquet.int96RebaseModeInWrite','CORRECTED')\\\n",
    "    .getOrCreate()"
   ]
  },
  {
   "cell_type": "code",
   "execution_count": null,
   "id": "ac8449a0-a64f-4818-8f8a-536f270b4510",
   "metadata": {},
   "outputs": [
    {
     "name": "stderr",
     "output_type": "stream",
     "text": [
      "[Stage 1:=====>                                                    (4 + 1) / 43]\r"
     ]
    }
   ],
   "source": [
    "df = spark.read.load('db-vacinacao-ma/*.csv', \n",
    "                     format='csv', sep=';', \n",
    "                     inferSchema='true', header='true')"
   ]
  },
  {
   "cell_type": "code",
   "execution_count": null,
   "id": "36ebfaf1-f4a2-4f07-a8a7-13032dfd0083",
   "metadata": {},
   "outputs": [],
   "source": [
    "df.printSchema()"
   ]
  },
  {
   "cell_type": "code",
   "execution_count": null,
   "id": "a738bb59",
   "metadata": {},
   "outputs": [],
   "source": [
    "df.limit(5).toPandas()"
   ]
  },
  {
   "cell_type": "code",
   "execution_count": null,
   "id": "c0934013",
   "metadata": {},
   "outputs": [],
   "source": [
    "df = df.drop(\"document_id\", \n",
    "        \"paciente_racaCor_codigo\",\n",
    "        \"paciente_endereco_coIbgeMunicipio\",\n",
    "        \"paciente_endereco_coPais\",\n",
    "        \"paciente_endereco_cep\",\n",
    "        \"estabelecimento_municipio_codigo\",\n",
    "        \"vacina_grupoAtendimento_codigo\",\n",
    "        \"vacina_categoria_codigo\",\n",
    "        \"vacina_codigo\")"
   ]
  },
  {
   "cell_type": "code",
   "execution_count": null,
   "id": "a93cfb21",
   "metadata": {},
   "outputs": [],
   "source": [
    "df.limit(5).toPandas()"
   ]
  },
  {
   "cell_type": "code",
   "execution_count": null,
   "id": "5a236594",
   "metadata": {},
   "outputs": [],
   "source": [
    "df.write.format(\"parquet\")\\\n",
    "    .mode(\"overwrite\")\\\n",
    "    .save(\"processing/regs-vac-ma.parquet\")"
   ]
  },
  {
   "cell_type": "code",
   "execution_count": null,
   "id": "766612b6",
   "metadata": {},
   "outputs": [],
   "source": [
    "df1_list = df.collect()[:99]\n",
    "df1 = spark.createDataFrame(df1)"
   ]
  },
  {
   "cell_type": "code",
   "execution_count": null,
   "id": "e6a3d9ce",
   "metadata": {},
   "outputs": [],
   "source": [
    "df1.toPandas()"
   ]
  },
  {
   "cell_type": "code",
   "execution_count": null,
   "id": "d04ae585",
   "metadata": {},
   "outputs": [],
   "source": [
    "df1.select(\"paciente_dataNascimento\")"
   ]
  },
  {
   "cell_type": "code",
   "execution_count": null,
   "id": "0ab5bdf9",
   "metadata": {},
   "outputs": [],
   "source": [
    "df1.write.format(\"csv\")\\\n",
    "    .mode(\"overwrite\")\\\n",
    "    .save(\"processing/regs-vac-sample-ma.csv\")"
   ]
  }
 ],
 "metadata": {
  "kernelspec": {
   "display_name": "Python 3 (ipykernel)",
   "language": "python",
   "name": "python3"
  },
  "language_info": {
   "codemirror_mode": {
    "name": "ipython",
    "version": 3
   },
   "file_extension": ".py",
   "mimetype": "text/x-python",
   "name": "python",
   "nbconvert_exporter": "python",
   "pygments_lexer": "ipython3",
   "version": "3.10.4"
  }
 },
 "nbformat": 4,
 "nbformat_minor": 5
}
